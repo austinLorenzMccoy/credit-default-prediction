{
 "cells": [
  {
   "cell_type": "code",
   "execution_count": 1,
   "metadata": {},
   "outputs": [
    {
     "name": "stderr",
     "output_type": "stream",
     "text": [
      "2024-11-26 14:01:18.297849: I tensorflow/core/platform/cpu_feature_guard.cc:182] This TensorFlow binary is optimized to use available CPU instructions in performance-critical operations.\n",
      "To enable the following instructions: AVX2 FMA, in other operations, rebuild TensorFlow with the appropriate compiler flags.\n"
     ]
    }
   ],
   "source": [
    "import pandas as pd\n",
    "import numpy as np\n",
    "from tensorflow.keras.models import Sequential\n",
    "from tensorflow.keras.layers import Dense, Dropout\n",
    "from tensorflow.keras.callbacks import EarlyStopping, TensorBoard\n",
    "from tensorflow.keras.optimizers import Adam\n",
    "from tensorflow.keras.models import load_model\n",
    "import os\n",
    "import datetime\n",
    "from imblearn.over_sampling import RandomOverSampler\n",
    "from sklearn.model_selection import train_test_split\n",
    "from sklearn.preprocessing import StandardScaler\n"
   ]
  },
  {
   "cell_type": "code",
   "execution_count": 2,
   "metadata": {},
   "outputs": [
    {
     "data": {
      "text/html": [
       "<div>\n",
       "<style scoped>\n",
       "    .dataframe tbody tr th:only-of-type {\n",
       "        vertical-align: middle;\n",
       "    }\n",
       "\n",
       "    .dataframe tbody tr th {\n",
       "        vertical-align: top;\n",
       "    }\n",
       "\n",
       "    .dataframe thead th {\n",
       "        text-align: right;\n",
       "    }\n",
       "</style>\n",
       "<table border=\"1\" class=\"dataframe\">\n",
       "  <thead>\n",
       "    <tr style=\"text-align: right;\">\n",
       "      <th></th>\n",
       "      <th>Unnamed: 0</th>\n",
       "      <th>X1</th>\n",
       "      <th>X2</th>\n",
       "      <th>X3</th>\n",
       "      <th>X4</th>\n",
       "      <th>X5</th>\n",
       "      <th>X6</th>\n",
       "      <th>X7</th>\n",
       "      <th>X8</th>\n",
       "      <th>X9</th>\n",
       "      <th>...</th>\n",
       "      <th>X15</th>\n",
       "      <th>X16</th>\n",
       "      <th>X17</th>\n",
       "      <th>X18</th>\n",
       "      <th>X19</th>\n",
       "      <th>X20</th>\n",
       "      <th>X21</th>\n",
       "      <th>X22</th>\n",
       "      <th>X23</th>\n",
       "      <th>Y</th>\n",
       "    </tr>\n",
       "  </thead>\n",
       "  <tbody>\n",
       "    <tr>\n",
       "      <th>0</th>\n",
       "      <td>ID</td>\n",
       "      <td>LIMIT_BAL</td>\n",
       "      <td>SEX</td>\n",
       "      <td>EDUCATION</td>\n",
       "      <td>MARRIAGE</td>\n",
       "      <td>AGE</td>\n",
       "      <td>PAY_0</td>\n",
       "      <td>PAY_2</td>\n",
       "      <td>PAY_3</td>\n",
       "      <td>PAY_4</td>\n",
       "      <td>...</td>\n",
       "      <td>BILL_AMT4</td>\n",
       "      <td>BILL_AMT5</td>\n",
       "      <td>BILL_AMT6</td>\n",
       "      <td>PAY_AMT1</td>\n",
       "      <td>PAY_AMT2</td>\n",
       "      <td>PAY_AMT3</td>\n",
       "      <td>PAY_AMT4</td>\n",
       "      <td>PAY_AMT5</td>\n",
       "      <td>PAY_AMT6</td>\n",
       "      <td>default_payment_next_month</td>\n",
       "    </tr>\n",
       "    <tr>\n",
       "      <th>1</th>\n",
       "      <td>1</td>\n",
       "      <td>20000</td>\n",
       "      <td>2</td>\n",
       "      <td>2</td>\n",
       "      <td>1</td>\n",
       "      <td>24</td>\n",
       "      <td>2</td>\n",
       "      <td>2</td>\n",
       "      <td>-1</td>\n",
       "      <td>-1</td>\n",
       "      <td>...</td>\n",
       "      <td>0</td>\n",
       "      <td>0</td>\n",
       "      <td>0</td>\n",
       "      <td>0</td>\n",
       "      <td>689</td>\n",
       "      <td>0</td>\n",
       "      <td>0</td>\n",
       "      <td>0</td>\n",
       "      <td>0</td>\n",
       "      <td>1</td>\n",
       "    </tr>\n",
       "    <tr>\n",
       "      <th>2</th>\n",
       "      <td>2</td>\n",
       "      <td>120000</td>\n",
       "      <td>2</td>\n",
       "      <td>2</td>\n",
       "      <td>2</td>\n",
       "      <td>26</td>\n",
       "      <td>-1</td>\n",
       "      <td>2</td>\n",
       "      <td>0</td>\n",
       "      <td>0</td>\n",
       "      <td>...</td>\n",
       "      <td>3272</td>\n",
       "      <td>3455</td>\n",
       "      <td>3261</td>\n",
       "      <td>0</td>\n",
       "      <td>1000</td>\n",
       "      <td>1000</td>\n",
       "      <td>1000</td>\n",
       "      <td>0</td>\n",
       "      <td>2000</td>\n",
       "      <td>1</td>\n",
       "    </tr>\n",
       "    <tr>\n",
       "      <th>3</th>\n",
       "      <td>3</td>\n",
       "      <td>90000</td>\n",
       "      <td>2</td>\n",
       "      <td>2</td>\n",
       "      <td>2</td>\n",
       "      <td>34</td>\n",
       "      <td>0</td>\n",
       "      <td>0</td>\n",
       "      <td>0</td>\n",
       "      <td>0</td>\n",
       "      <td>...</td>\n",
       "      <td>14331</td>\n",
       "      <td>14948</td>\n",
       "      <td>15549</td>\n",
       "      <td>1518</td>\n",
       "      <td>1500</td>\n",
       "      <td>1000</td>\n",
       "      <td>1000</td>\n",
       "      <td>1000</td>\n",
       "      <td>5000</td>\n",
       "      <td>0</td>\n",
       "    </tr>\n",
       "    <tr>\n",
       "      <th>4</th>\n",
       "      <td>4</td>\n",
       "      <td>50000</td>\n",
       "      <td>2</td>\n",
       "      <td>2</td>\n",
       "      <td>1</td>\n",
       "      <td>37</td>\n",
       "      <td>0</td>\n",
       "      <td>0</td>\n",
       "      <td>0</td>\n",
       "      <td>0</td>\n",
       "      <td>...</td>\n",
       "      <td>28314</td>\n",
       "      <td>28959</td>\n",
       "      <td>29547</td>\n",
       "      <td>2000</td>\n",
       "      <td>2019</td>\n",
       "      <td>1200</td>\n",
       "      <td>1100</td>\n",
       "      <td>1069</td>\n",
       "      <td>1000</td>\n",
       "      <td>0</td>\n",
       "    </tr>\n",
       "  </tbody>\n",
       "</table>\n",
       "<p>5 rows × 25 columns</p>\n",
       "</div>"
      ],
      "text/plain": [
       "  Unnamed: 0         X1   X2         X3        X4   X5     X6     X7     X8  \\\n",
       "0         ID  LIMIT_BAL  SEX  EDUCATION  MARRIAGE  AGE  PAY_0  PAY_2  PAY_3   \n",
       "1          1      20000    2          2         1   24      2      2     -1   \n",
       "2          2     120000    2          2         2   26     -1      2      0   \n",
       "3          3      90000    2          2         2   34      0      0      0   \n",
       "4          4      50000    2          2         1   37      0      0      0   \n",
       "\n",
       "      X9  ...        X15        X16        X17       X18       X19       X20  \\\n",
       "0  PAY_4  ...  BILL_AMT4  BILL_AMT5  BILL_AMT6  PAY_AMT1  PAY_AMT2  PAY_AMT3   \n",
       "1     -1  ...          0          0          0         0       689         0   \n",
       "2      0  ...       3272       3455       3261         0      1000      1000   \n",
       "3      0  ...      14331      14948      15549      1518      1500      1000   \n",
       "4      0  ...      28314      28959      29547      2000      2019      1200   \n",
       "\n",
       "        X21       X22       X23                           Y  \n",
       "0  PAY_AMT4  PAY_AMT5  PAY_AMT6  default_payment_next_month  \n",
       "1         0         0         0                           1  \n",
       "2      1000         0      2000                           1  \n",
       "3      1000      1000      5000                           0  \n",
       "4      1100      1069      1000                           0  \n",
       "\n",
       "[5 rows x 25 columns]"
      ]
     },
     "execution_count": 2,
     "metadata": {},
     "output_type": "execute_result"
    }
   ],
   "source": [
    "## load the dataset\n",
    "data= pd.read_csv(\"default_of_credit_card.csv\")\n",
    "data.head()"
   ]
  },
  {
   "cell_type": "code",
   "execution_count": 3,
   "metadata": {},
   "outputs": [
    {
     "name": "stdout",
     "output_type": "stream",
     "text": [
      "<class 'pandas.core.frame.DataFrame'>\n",
      "RangeIndex: 30001 entries, 0 to 30000\n",
      "Data columns (total 25 columns):\n",
      " #   Column      Non-Null Count  Dtype \n",
      "---  ------      --------------  ----- \n",
      " 0   Unnamed: 0  30001 non-null  object\n",
      " 1   X1          30001 non-null  object\n",
      " 2   X2          30001 non-null  object\n",
      " 3   X3          30001 non-null  object\n",
      " 4   X4          30001 non-null  object\n",
      " 5   X5          30001 non-null  object\n",
      " 6   X6          30001 non-null  object\n",
      " 7   X7          30001 non-null  object\n",
      " 8   X8          30001 non-null  object\n",
      " 9   X9          30001 non-null  object\n",
      " 10  X10         30001 non-null  object\n",
      " 11  X11         30001 non-null  object\n",
      " 12  X12         30001 non-null  object\n",
      " 13  X13         30001 non-null  object\n",
      " 14  X14         30001 non-null  object\n",
      " 15  X15         30001 non-null  object\n",
      " 16  X16         30001 non-null  object\n",
      " 17  X17         30001 non-null  object\n",
      " 18  X18         30001 non-null  object\n",
      " 19  X19         30001 non-null  object\n",
      " 20  X20         30001 non-null  object\n",
      " 21  X21         30001 non-null  object\n",
      " 22  X22         30001 non-null  object\n",
      " 23  X23         30001 non-null  object\n",
      " 24  Y           30001 non-null  object\n",
      "dtypes: object(25)\n",
      "memory usage: 5.7+ MB\n"
     ]
    }
   ],
   "source": [
    "data.info()"
   ]
  },
  {
   "cell_type": "code",
   "execution_count": 4,
   "metadata": {},
   "outputs": [
    {
     "name": "stdout",
     "output_type": "stream",
     "text": [
      "Index(['Unnamed: 0', 'X1', 'X2', 'X3', 'X4', 'X5', 'X6', 'X7', 'X8', 'X9',\n",
      "       'X10', 'X11', 'X12', 'X13', 'X14', 'X15', 'X16', 'X17', 'X18', 'X19',\n",
      "       'X20', 'X21', 'X22', 'X23', 'Y'],\n",
      "      dtype='object')\n",
      "Features shape: (30001, 23)\n",
      "Target shape: (30001,)\n"
     ]
    },
    {
     "name": "stderr",
     "output_type": "stream",
     "text": [
      "/var/folders/1v/rgbrl8yj10q39dr4l_r0c8800000gn/T/ipykernel_32933/903872019.py:8: FutureWarning: errors='ignore' is deprecated and will raise in a future version. Use to_numeric without passing `errors` and catch exceptions explicitly instead\n",
      "  data = data.apply(pd.to_numeric, errors='ignore')  # Convert to numeric where applicable\n"
     ]
    }
   ],
   "source": [
    "# Check for unnecessary columns\n",
    "print(data.columns)\n",
    "\n",
    "# Drop the 'Unnamed: 0' column if it's unnecessary\n",
    "data = data.drop(columns=['Unnamed: 0'])\n",
    "\n",
    "# Ensure all data types are correctly formatted\n",
    "data = data.apply(pd.to_numeric, errors='ignore')  # Convert to numeric where applicable\n",
    "\n",
    "# Separate features and target\n",
    "X = data.drop(columns=['Y'])  # Features\n",
    "y = data['Y']  # Target\n",
    "\n",
    "# Check the updated dataset structure\n",
    "print(f\"Features shape: {X.shape}\")\n",
    "print(f\"Target shape: {y.shape}\")\n"
   ]
  },
  {
   "cell_type": "code",
   "execution_count": 5,
   "metadata": {},
   "outputs": [
    {
     "data": {
      "text/html": [
       "<div>\n",
       "<style scoped>\n",
       "    .dataframe tbody tr th:only-of-type {\n",
       "        vertical-align: middle;\n",
       "    }\n",
       "\n",
       "    .dataframe tbody tr th {\n",
       "        vertical-align: top;\n",
       "    }\n",
       "\n",
       "    .dataframe thead th {\n",
       "        text-align: right;\n",
       "    }\n",
       "</style>\n",
       "<table border=\"1\" class=\"dataframe\">\n",
       "  <thead>\n",
       "    <tr style=\"text-align: right;\">\n",
       "      <th></th>\n",
       "      <th>X1</th>\n",
       "      <th>X2</th>\n",
       "      <th>X3</th>\n",
       "      <th>X4</th>\n",
       "      <th>X5</th>\n",
       "      <th>X6</th>\n",
       "      <th>X7</th>\n",
       "      <th>X8</th>\n",
       "      <th>X9</th>\n",
       "      <th>X10</th>\n",
       "      <th>...</th>\n",
       "      <th>X15</th>\n",
       "      <th>X16</th>\n",
       "      <th>X17</th>\n",
       "      <th>X18</th>\n",
       "      <th>X19</th>\n",
       "      <th>X20</th>\n",
       "      <th>X21</th>\n",
       "      <th>X22</th>\n",
       "      <th>X23</th>\n",
       "      <th>Y</th>\n",
       "    </tr>\n",
       "  </thead>\n",
       "  <tbody>\n",
       "    <tr>\n",
       "      <th>0</th>\n",
       "      <td>LIMIT_BAL</td>\n",
       "      <td>SEX</td>\n",
       "      <td>EDUCATION</td>\n",
       "      <td>MARRIAGE</td>\n",
       "      <td>AGE</td>\n",
       "      <td>PAY_0</td>\n",
       "      <td>PAY_2</td>\n",
       "      <td>PAY_3</td>\n",
       "      <td>PAY_4</td>\n",
       "      <td>PAY_5</td>\n",
       "      <td>...</td>\n",
       "      <td>BILL_AMT4</td>\n",
       "      <td>BILL_AMT5</td>\n",
       "      <td>BILL_AMT6</td>\n",
       "      <td>PAY_AMT1</td>\n",
       "      <td>PAY_AMT2</td>\n",
       "      <td>PAY_AMT3</td>\n",
       "      <td>PAY_AMT4</td>\n",
       "      <td>PAY_AMT5</td>\n",
       "      <td>PAY_AMT6</td>\n",
       "      <td>default_payment_next_month</td>\n",
       "    </tr>\n",
       "    <tr>\n",
       "      <th>1</th>\n",
       "      <td>20000</td>\n",
       "      <td>2</td>\n",
       "      <td>2</td>\n",
       "      <td>1</td>\n",
       "      <td>24</td>\n",
       "      <td>2</td>\n",
       "      <td>2</td>\n",
       "      <td>-1</td>\n",
       "      <td>-1</td>\n",
       "      <td>-2</td>\n",
       "      <td>...</td>\n",
       "      <td>0</td>\n",
       "      <td>0</td>\n",
       "      <td>0</td>\n",
       "      <td>0</td>\n",
       "      <td>689</td>\n",
       "      <td>0</td>\n",
       "      <td>0</td>\n",
       "      <td>0</td>\n",
       "      <td>0</td>\n",
       "      <td>1</td>\n",
       "    </tr>\n",
       "    <tr>\n",
       "      <th>2</th>\n",
       "      <td>120000</td>\n",
       "      <td>2</td>\n",
       "      <td>2</td>\n",
       "      <td>2</td>\n",
       "      <td>26</td>\n",
       "      <td>-1</td>\n",
       "      <td>2</td>\n",
       "      <td>0</td>\n",
       "      <td>0</td>\n",
       "      <td>0</td>\n",
       "      <td>...</td>\n",
       "      <td>3272</td>\n",
       "      <td>3455</td>\n",
       "      <td>3261</td>\n",
       "      <td>0</td>\n",
       "      <td>1000</td>\n",
       "      <td>1000</td>\n",
       "      <td>1000</td>\n",
       "      <td>0</td>\n",
       "      <td>2000</td>\n",
       "      <td>1</td>\n",
       "    </tr>\n",
       "    <tr>\n",
       "      <th>3</th>\n",
       "      <td>90000</td>\n",
       "      <td>2</td>\n",
       "      <td>2</td>\n",
       "      <td>2</td>\n",
       "      <td>34</td>\n",
       "      <td>0</td>\n",
       "      <td>0</td>\n",
       "      <td>0</td>\n",
       "      <td>0</td>\n",
       "      <td>0</td>\n",
       "      <td>...</td>\n",
       "      <td>14331</td>\n",
       "      <td>14948</td>\n",
       "      <td>15549</td>\n",
       "      <td>1518</td>\n",
       "      <td>1500</td>\n",
       "      <td>1000</td>\n",
       "      <td>1000</td>\n",
       "      <td>1000</td>\n",
       "      <td>5000</td>\n",
       "      <td>0</td>\n",
       "    </tr>\n",
       "    <tr>\n",
       "      <th>4</th>\n",
       "      <td>50000</td>\n",
       "      <td>2</td>\n",
       "      <td>2</td>\n",
       "      <td>1</td>\n",
       "      <td>37</td>\n",
       "      <td>0</td>\n",
       "      <td>0</td>\n",
       "      <td>0</td>\n",
       "      <td>0</td>\n",
       "      <td>0</td>\n",
       "      <td>...</td>\n",
       "      <td>28314</td>\n",
       "      <td>28959</td>\n",
       "      <td>29547</td>\n",
       "      <td>2000</td>\n",
       "      <td>2019</td>\n",
       "      <td>1200</td>\n",
       "      <td>1100</td>\n",
       "      <td>1069</td>\n",
       "      <td>1000</td>\n",
       "      <td>0</td>\n",
       "    </tr>\n",
       "  </tbody>\n",
       "</table>\n",
       "<p>5 rows × 24 columns</p>\n",
       "</div>"
      ],
      "text/plain": [
       "          X1   X2         X3        X4   X5     X6     X7     X8     X9  \\\n",
       "0  LIMIT_BAL  SEX  EDUCATION  MARRIAGE  AGE  PAY_0  PAY_2  PAY_3  PAY_4   \n",
       "1      20000    2          2         1   24      2      2     -1     -1   \n",
       "2     120000    2          2         2   26     -1      2      0      0   \n",
       "3      90000    2          2         2   34      0      0      0      0   \n",
       "4      50000    2          2         1   37      0      0      0      0   \n",
       "\n",
       "     X10  ...        X15        X16        X17       X18       X19       X20  \\\n",
       "0  PAY_5  ...  BILL_AMT4  BILL_AMT5  BILL_AMT6  PAY_AMT1  PAY_AMT2  PAY_AMT3   \n",
       "1     -2  ...          0          0          0         0       689         0   \n",
       "2      0  ...       3272       3455       3261         0      1000      1000   \n",
       "3      0  ...      14331      14948      15549      1518      1500      1000   \n",
       "4      0  ...      28314      28959      29547      2000      2019      1200   \n",
       "\n",
       "        X21       X22       X23                           Y  \n",
       "0  PAY_AMT4  PAY_AMT5  PAY_AMT6  default_payment_next_month  \n",
       "1         0         0         0                           1  \n",
       "2      1000         0      2000                           1  \n",
       "3      1000      1000      5000                           0  \n",
       "4      1100      1069      1000                           0  \n",
       "\n",
       "[5 rows x 24 columns]"
      ]
     },
     "execution_count": 5,
     "metadata": {},
     "output_type": "execute_result"
    }
   ],
   "source": [
    "data.head()"
   ]
  },
  {
   "cell_type": "code",
   "execution_count": 6,
   "metadata": {},
   "outputs": [
    {
     "name": "stdout",
     "output_type": "stream",
     "text": [
      "<class 'pandas.core.frame.DataFrame'>\n",
      "RangeIndex: 30001 entries, 0 to 30000\n",
      "Data columns (total 24 columns):\n",
      " #   Column  Non-Null Count  Dtype  \n",
      "---  ------  --------------  -----  \n",
      " 0   X1      30000 non-null  float64\n",
      " 1   X2      30000 non-null  float64\n",
      " 2   X3      30000 non-null  float64\n",
      " 3   X4      30000 non-null  float64\n",
      " 4   X5      30000 non-null  float64\n",
      " 5   X6      30000 non-null  float64\n",
      " 6   X7      30000 non-null  float64\n",
      " 7   X8      30000 non-null  float64\n",
      " 8   X9      30000 non-null  float64\n",
      " 9   X10     30000 non-null  float64\n",
      " 10  X11     30000 non-null  float64\n",
      " 11  X12     30000 non-null  float64\n",
      " 12  X13     30000 non-null  float64\n",
      " 13  X14     30000 non-null  float64\n",
      " 14  X15     30000 non-null  float64\n",
      " 15  X16     30000 non-null  float64\n",
      " 16  X17     30000 non-null  float64\n",
      " 17  X18     30000 non-null  float64\n",
      " 18  X19     30000 non-null  float64\n",
      " 19  X20     30000 non-null  float64\n",
      " 20  X21     30000 non-null  float64\n",
      " 21  X22     30000 non-null  float64\n",
      " 22  X23     30000 non-null  float64\n",
      " 23  Y       30000 non-null  float64\n",
      "dtypes: float64(24)\n",
      "memory usage: 5.5 MB\n",
      "None\n"
     ]
    }
   ],
   "source": [
    "# Convert all columns to numeric if possible\n",
    "data = data.apply(pd.to_numeric, errors='coerce')  # Replace non-numeric values with NaN\n",
    "print(data.info())\n"
   ]
  },
  {
   "cell_type": "code",
   "execution_count": 7,
   "metadata": {},
   "outputs": [
    {
     "name": "stdout",
     "output_type": "stream",
     "text": [
      "Y\n",
      "0                             0.778774\n",
      "1                             0.221193\n",
      "default_payment_next_month    0.000033\n",
      "Name: proportion, dtype: float64\n"
     ]
    }
   ],
   "source": [
    "# Check for Class Imbalance\n",
    "print(y.value_counts(normalize=True))"
   ]
  },
  {
   "cell_type": "markdown",
   "metadata": {},
   "source": [
    "\n",
    "## **Cleaning the Dataset**\n",
    "\n",
    "- Remove any rows with invalid labels (e.g., `default_payment_next_month`).\n",
    "\n",
    "- Ensure all columns are numeric where applicable."
   ]
  },
  {
   "cell_type": "code",
   "execution_count": 8,
   "metadata": {},
   "outputs": [],
   "source": [
    "# Remove invalid labels\n",
    "data = data[data['Y'].isin([0, 1])]  # Keep only rows with labels 0 or 1\n",
    "y = data['Y']  # Update target variable\n",
    "X = data.drop(columns=['Y'])  # Update features dataset"
   ]
  },
  {
   "cell_type": "code",
   "execution_count": 9,
   "metadata": {},
   "outputs": [
    {
     "name": "stdout",
     "output_type": "stream",
     "text": [
      "New Target Distribution:\n",
      "Y\n",
      "0.0    0.7788\n",
      "1.0    0.2212\n",
      "Name: proportion, dtype: float64\n",
      "\n",
      "<class 'pandas.core.frame.DataFrame'>\n",
      "Index: 30000 entries, 1 to 30000\n",
      "Data columns (total 23 columns):\n",
      " #   Column  Non-Null Count  Dtype  \n",
      "---  ------  --------------  -----  \n",
      " 0   X1      30000 non-null  float64\n",
      " 1   X2      30000 non-null  float64\n",
      " 2   X3      30000 non-null  float64\n",
      " 3   X4      30000 non-null  float64\n",
      " 4   X5      30000 non-null  float64\n",
      " 5   X6      30000 non-null  float64\n",
      " 6   X7      30000 non-null  float64\n",
      " 7   X8      30000 non-null  float64\n",
      " 8   X9      30000 non-null  float64\n",
      " 9   X10     30000 non-null  float64\n",
      " 10  X11     30000 non-null  float64\n",
      " 11  X12     30000 non-null  float64\n",
      " 12  X13     30000 non-null  float64\n",
      " 13  X14     30000 non-null  float64\n",
      " 14  X15     30000 non-null  float64\n",
      " 15  X16     30000 non-null  float64\n",
      " 16  X17     30000 non-null  float64\n",
      " 17  X18     30000 non-null  float64\n",
      " 18  X19     30000 non-null  float64\n",
      " 19  X20     30000 non-null  float64\n",
      " 20  X21     30000 non-null  float64\n",
      " 21  X22     30000 non-null  float64\n",
      " 22  X23     30000 non-null  float64\n",
      "dtypes: float64(23)\n",
      "memory usage: 5.5 MB\n",
      "Dataset Info After Cleaning:\n",
      "None\n",
      "\n"
     ]
    }
   ],
   "source": [
    "# Convert all columns to numeric (if not already)\n",
    "X = X.apply(pd.to_numeric, errors='coerce')\n",
    "\n",
    "# Verify the changes\n",
    "print(f\"New Target Distribution:\\n{y.value_counts(normalize=True)}\\n\")\n",
    "print(f\"Dataset Info After Cleaning:\\n{X.info()}\\n\")"
   ]
  },
  {
   "cell_type": "markdown",
   "metadata": {},
   "source": [
    "## **Handle Missing Values**\n",
    "- Check for missing values introduced during the cleaning process and impute or remove them as needed."
   ]
  },
  {
   "cell_type": "code",
   "execution_count": 10,
   "metadata": {},
   "outputs": [
    {
     "name": "stdout",
     "output_type": "stream",
     "text": [
      "Missing Values:\n",
      "Series([], dtype: int64)\n",
      "\n"
     ]
    }
   ],
   "source": [
    "\n",
    "# Check for missing values\n",
    "missing_values = X.isnull().sum()\n",
    "print(f\"Missing Values:\\n{missing_values[missing_values > 0]}\\n\")\n",
    "\n",
    "# Fill missing values with the median (or another strategy)\n",
    "X.fillna(X.median(), inplace=True)\n"
   ]
  },
  {
   "cell_type": "markdown",
   "metadata": {},
   "source": [
    "\n",
    "### **Class Balancing**\n",
    "\n",
    "- Apply oversampling or SMOTE to handle the class imbalance."
   ]
  },
  {
   "cell_type": "code",
   "execution_count": 11,
   "metadata": {},
   "outputs": [
    {
     "name": "stdout",
     "output_type": "stream",
     "text": [
      "New Target Distribution After Oversampling:\n",
      "Y\n",
      "1.0    0.5\n",
      "0.0    0.5\n",
      "Name: proportion, dtype: float64\n",
      "\n"
     ]
    }
   ],
   "source": [
    "\n",
    "\n",
    "#### Oversampling:\n",
    "\n",
    "from imblearn.over_sampling import RandomOverSampler\n",
    "\n",
    "# Oversample the minority class\n",
    "oversampler = RandomOverSampler(random_state=42)\n",
    "X_balanced, y_balanced = oversampler.fit_resample(X, y)\n",
    "\n",
    "# Verify the new distribution\n",
    "print(f\"New Target Distribution After Oversampling:\\n{y_balanced.value_counts(normalize=True)}\\n\")\n"
   ]
  },
  {
   "cell_type": "markdown",
   "metadata": {},
   "source": [
    "# **ANN IMPLEMENTATION**"
   ]
  },
  {
   "cell_type": "markdown",
   "metadata": {},
   "source": [
    "## **Feature Scaling:**\n",
    "- Scale the features to standardize their ranges. This is particularly important for algorithms like ANN, which are sensitive to feature scaling.\n",
    "\n"
   ]
  },
  {
   "cell_type": "code",
   "execution_count": 12,
   "metadata": {},
   "outputs": [],
   "source": [
    "from sklearn.preprocessing import StandardScaler\n",
    "\n",
    "scaler = StandardScaler()\n",
    "X_balanced_scaled = scaler.fit_transform(X_balanced)"
   ]
  },
  {
   "cell_type": "markdown",
   "metadata": {},
   "source": [
    "**Splitting the Data:**\n",
    "   - Split the balanced dataset into training and testing sets."
   ]
  },
  {
   "cell_type": "code",
   "execution_count": 13,
   "metadata": {},
   "outputs": [],
   "source": [
    "from sklearn.model_selection import train_test_split\n",
    "\n",
    "X_train, X_test, y_train, y_test = train_test_split(\n",
    "       X_balanced_scaled, y_balanced, test_size=0.2, random_state=42, stratify=y_balanced\n",
    "   )"
   ]
  },
  {
   "cell_type": "markdown",
   "metadata": {},
   "source": [
    "**Setup Callbacks**\n",
    "\n",
    "To improve your model training, let's incorporate callbacks like EarlyStopping to avoid overfitting and TensorBoard for visualizing the training process in real-time.\n",
    "\n",
    "1. EarlyStopping Callback\n",
    "EarlyStopping monitors a specific metric (like validation loss) and stops the training when it no longer improves, preventing overfitting.\n",
    "\n",
    "2. TensorBoard Callback\n",
    "TensorBoard allows you to visualize training metrics like loss, accuracy, and others during the model training process."
   ]
  },
  {
   "cell_type": "code",
   "execution_count": 14,
   "metadata": {},
   "outputs": [],
   "source": [
    "\n",
    "# Create directories for TensorBoard logs\n",
    "log_dir = \"logs/fit\" + datetime.datetime.now().strftime(\"%Y%m%d-%H%M%S\")\n",
    "os.makedirs(log_dir, exist_ok=True)\n",
    "\n",
    "# Early stopping callback\n",
    "early_stopping = EarlyStopping(\n",
    "    monitor='val_loss',               # Monitor the validation loss\n",
    "    patience=5,                        # Stop after 5 epochs with no improvement\n",
    "    restore_best_weights=True,         # Restore best model weights\n",
    "    verbose=1\n",
    ")\n",
    "\n",
    "# TensorBoard callback\n",
    "tensorboard_callback = TensorBoard(\n",
    "    log_dir=log_dir,                   # Path for logs\n",
    "    histogram_freq=1,                   # Log histograms every epoch\n",
    "    write_graph=True,                   # Log the model graph\n",
    "    write_images=True                   # Log weights as images\n",
    ")\n"
   ]
  },
  {
   "cell_type": "code",
   "execution_count": 15,
   "metadata": {},
   "outputs": [],
   "source": [
    "## Load Tensorboard Extension\n",
    "%load_ext tensorboard"
   ]
  },
  {
   "cell_type": "code",
   "execution_count": 16,
   "metadata": {},
   "outputs": [
    {
     "data": {
      "text/html": [
       "\n",
       "      <iframe id=\"tensorboard-frame-f7e5cd897b2342f3\" width=\"100%\" height=\"800\" frameborder=\"0\">\n",
       "      </iframe>\n",
       "      <script>\n",
       "        (function() {\n",
       "          const frame = document.getElementById(\"tensorboard-frame-f7e5cd897b2342f3\");\n",
       "          const url = new URL(\"/\", window.location);\n",
       "          const port = 6006;\n",
       "          if (port) {\n",
       "            url.port = port;\n",
       "          }\n",
       "          frame.src = url;\n",
       "        })();\n",
       "      </script>\n",
       "    "
      ],
      "text/plain": [
       "<IPython.core.display.HTML object>"
      ]
     },
     "metadata": {},
     "output_type": "display_data"
    }
   ],
   "source": [
    "%tensorboard --logdir=logs/fit"
   ]
  },
  {
   "cell_type": "markdown",
   "metadata": {},
   "source": [
    "**Building the Artificial Neural Network (ANN):**\n",
    "\n",
    "- Design and train an ANN to classify the default payment cases."
   ]
  },
  {
   "cell_type": "code",
   "execution_count": 17,
   "metadata": {},
   "outputs": [
    {
     "name": "stdout",
     "output_type": "stream",
     "text": [
      "Model: \"sequential\"\n",
      "_________________________________________________________________\n",
      " Layer (type)                Output Shape              Param #   \n",
      "=================================================================\n",
      " dense (Dense)               (None, 64)                1536      \n",
      "                                                                 \n",
      " dropout (Dropout)           (None, 64)                0         \n",
      "                                                                 \n",
      " dense_1 (Dense)             (None, 32)                2080      \n",
      "                                                                 \n",
      " dropout_1 (Dropout)         (None, 32)                0         \n",
      "                                                                 \n",
      " dense_2 (Dense)             (None, 1)                 33        \n",
      "                                                                 \n",
      "=================================================================\n",
      "Total params: 3649 (14.25 KB)\n",
      "Trainable params: 3649 (14.25 KB)\n",
      "Non-trainable params: 0 (0.00 Byte)\n",
      "_________________________________________________________________\n"
     ]
    }
   ],
   "source": [
    "# Build the ANN\n",
    "model = Sequential([\n",
    "      Dense(64, activation='relu', input_dim=X_train.shape[1]),\n",
    "      Dropout(0.3),\n",
    "      Dense(32, activation='relu'),\n",
    "      Dropout(0.3),\n",
    "      Dense(1, activation='sigmoid')  # Output layer for binary classification\n",
    "   ])\n",
    "\n",
    "\n",
    "model.summary()"
   ]
  },
  {
   "cell_type": "markdown",
   "metadata": {},
   "source": [
    "The model summary shows the architecture of the neural network you've built. Here's a breakdown of each layer:\n",
    "\n",
    "1. **Dense Layer (64 units)**:\n",
    "   - The first layer has 64 neurons.\n",
    "   - It connects to all the neurons from the input layer, with a total of 1536 parameters (input features × units + bias term).\n",
    "\n",
    "2. **Dropout Layer (rate=0.2)**:\n",
    "   - This dropout layer will randomly \"drop\" 20% of the neurons during training to prevent overfitting.\n",
    "\n",
    "3. **Dense Layer (32 units)**:\n",
    "   - The second dense layer has 32 neurons, and it has 2080 parameters (input features from the previous layer × units + bias term).\n",
    "\n",
    "4. **Dropout Layer (rate=0.2)**:\n",
    "   - Another dropout layer that will drop 20% of neurons.\n",
    "\n",
    "5. **Dense Layer (1 unit)**:\n",
    "   - The final dense layer has a single neuron, as this is a binary classification task.\n",
    "   - It has 33 parameters (32 units from the previous layer + 1 bias term).\n"
   ]
  },
  {
   "cell_type": "code",
   "execution_count": 18,
   "metadata": {},
   "outputs": [
    {
     "name": "stdout",
     "output_type": "stream",
     "text": [
      "Epoch 1/50\n",
      "935/935 [==============================] - 5s 4ms/step - loss: 0.6225 - accuracy: 0.6603 - val_loss: 0.5816 - val_accuracy: 0.7001\n",
      "Epoch 2/50\n",
      "935/935 [==============================] - 3s 3ms/step - loss: 0.5911 - accuracy: 0.6907 - val_loss: 0.5722 - val_accuracy: 0.7035\n",
      "Epoch 3/50\n",
      "935/935 [==============================] - 3s 3ms/step - loss: 0.5801 - accuracy: 0.6964 - val_loss: 0.5677 - val_accuracy: 0.7068\n",
      "Epoch 4/50\n",
      "935/935 [==============================] - 2s 3ms/step - loss: 0.5742 - accuracy: 0.7011 - val_loss: 0.5644 - val_accuracy: 0.7131\n",
      "Epoch 5/50\n",
      "935/935 [==============================] - 2s 2ms/step - loss: 0.5705 - accuracy: 0.7036 - val_loss: 0.5612 - val_accuracy: 0.7137\n",
      "Epoch 6/50\n",
      "935/935 [==============================] - 3s 3ms/step - loss: 0.5689 - accuracy: 0.7043 - val_loss: 0.5626 - val_accuracy: 0.7137\n",
      "Epoch 7/50\n",
      "935/935 [==============================] - 3s 3ms/step - loss: 0.5658 - accuracy: 0.7054 - val_loss: 0.5594 - val_accuracy: 0.7150\n",
      "Epoch 8/50\n",
      "935/935 [==============================] - 2s 3ms/step - loss: 0.5632 - accuracy: 0.7090 - val_loss: 0.5563 - val_accuracy: 0.7186\n",
      "Epoch 9/50\n",
      "935/935 [==============================] - 3s 3ms/step - loss: 0.5634 - accuracy: 0.7087 - val_loss: 0.5565 - val_accuracy: 0.7146\n",
      "Epoch 10/50\n",
      "935/935 [==============================] - 3s 3ms/step - loss: 0.5636 - accuracy: 0.7078 - val_loss: 0.5552 - val_accuracy: 0.7161\n",
      "Epoch 11/50\n",
      "935/935 [==============================] - 2s 2ms/step - loss: 0.5603 - accuracy: 0.7075 - val_loss: 0.5548 - val_accuracy: 0.7159\n",
      "Epoch 12/50\n",
      "935/935 [==============================] - 2s 2ms/step - loss: 0.5580 - accuracy: 0.7094 - val_loss: 0.5572 - val_accuracy: 0.7167\n",
      "Epoch 13/50\n",
      "935/935 [==============================] - 2s 2ms/step - loss: 0.5573 - accuracy: 0.7057 - val_loss: 0.5523 - val_accuracy: 0.7182\n",
      "Epoch 14/50\n",
      "935/935 [==============================] - 2s 2ms/step - loss: 0.5585 - accuracy: 0.7094 - val_loss: 0.5539 - val_accuracy: 0.7166\n",
      "Epoch 15/50\n",
      "935/935 [==============================] - 2s 2ms/step - loss: 0.5581 - accuracy: 0.7093 - val_loss: 0.5533 - val_accuracy: 0.7171\n",
      "Epoch 16/50\n",
      "935/935 [==============================] - 2s 2ms/step - loss: 0.5532 - accuracy: 0.7121 - val_loss: 0.5551 - val_accuracy: 0.7125\n",
      "Epoch 17/50\n",
      "935/935 [==============================] - 2s 2ms/step - loss: 0.5553 - accuracy: 0.7101 - val_loss: 0.5510 - val_accuracy: 0.7185\n",
      "Epoch 18/50\n",
      "935/935 [==============================] - 2s 2ms/step - loss: 0.5540 - accuracy: 0.7116 - val_loss: 0.5531 - val_accuracy: 0.7210\n",
      "Epoch 19/50\n",
      "935/935 [==============================] - 2s 2ms/step - loss: 0.5529 - accuracy: 0.7122 - val_loss: 0.5532 - val_accuracy: 0.7151\n",
      "Epoch 20/50\n",
      "935/935 [==============================] - 2s 2ms/step - loss: 0.5525 - accuracy: 0.7120 - val_loss: 0.5487 - val_accuracy: 0.7177\n",
      "Epoch 21/50\n",
      "935/935 [==============================] - 2s 2ms/step - loss: 0.5513 - accuracy: 0.7136 - val_loss: 0.5503 - val_accuracy: 0.7174\n",
      "Epoch 22/50\n",
      "935/935 [==============================] - 2s 2ms/step - loss: 0.5502 - accuracy: 0.7121 - val_loss: 0.5513 - val_accuracy: 0.7183\n",
      "Epoch 23/50\n",
      "935/935 [==============================] - 2s 2ms/step - loss: 0.5509 - accuracy: 0.7126 - val_loss: 0.5505 - val_accuracy: 0.7207\n",
      "Epoch 24/50\n",
      "935/935 [==============================] - 2s 2ms/step - loss: 0.5504 - accuracy: 0.7124 - val_loss: 0.5486 - val_accuracy: 0.7178\n",
      "Epoch 25/50\n",
      "935/935 [==============================] - 2s 2ms/step - loss: 0.5493 - accuracy: 0.7155 - val_loss: 0.5509 - val_accuracy: 0.7181\n",
      "Epoch 26/50\n",
      "935/935 [==============================] - 2s 2ms/step - loss: 0.5476 - accuracy: 0.7151 - val_loss: 0.5485 - val_accuracy: 0.7193\n",
      "Epoch 27/50\n",
      "935/935 [==============================] - 2s 2ms/step - loss: 0.5471 - accuracy: 0.7126 - val_loss: 0.5493 - val_accuracy: 0.7193\n",
      "Epoch 28/50\n",
      "935/935 [==============================] - 2s 2ms/step - loss: 0.5470 - accuracy: 0.7141 - val_loss: 0.5467 - val_accuracy: 0.7217\n",
      "Epoch 29/50\n",
      "935/935 [==============================] - 2s 2ms/step - loss: 0.5466 - accuracy: 0.7143 - val_loss: 0.5490 - val_accuracy: 0.7194\n",
      "Epoch 30/50\n",
      "935/935 [==============================] - 2s 2ms/step - loss: 0.5460 - accuracy: 0.7156 - val_loss: 0.5473 - val_accuracy: 0.7191\n",
      "Epoch 31/50\n",
      "935/935 [==============================] - 2s 2ms/step - loss: 0.5448 - accuracy: 0.7154 - val_loss: 0.5461 - val_accuracy: 0.7197\n",
      "Epoch 32/50\n",
      "935/935 [==============================] - 2s 2ms/step - loss: 0.5466 - accuracy: 0.7143 - val_loss: 0.5482 - val_accuracy: 0.7182\n",
      "Epoch 33/50\n",
      "935/935 [==============================] - 2s 3ms/step - loss: 0.5446 - accuracy: 0.7175 - val_loss: 0.5473 - val_accuracy: 0.7215\n",
      "Epoch 34/50\n",
      "935/935 [==============================] - 2s 2ms/step - loss: 0.5444 - accuracy: 0.7149 - val_loss: 0.5456 - val_accuracy: 0.7221\n",
      "Epoch 35/50\n",
      "935/935 [==============================] - 2s 2ms/step - loss: 0.5455 - accuracy: 0.7177 - val_loss: 0.5474 - val_accuracy: 0.7179\n",
      "Epoch 36/50\n",
      "935/935 [==============================] - 3s 3ms/step - loss: 0.5439 - accuracy: 0.7157 - val_loss: 0.5472 - val_accuracy: 0.7210\n",
      "Epoch 37/50\n",
      "935/935 [==============================] - 2s 2ms/step - loss: 0.5449 - accuracy: 0.7141 - val_loss: 0.5472 - val_accuracy: 0.7230\n",
      "Epoch 38/50\n",
      "935/935 [==============================] - 2s 2ms/step - loss: 0.5436 - accuracy: 0.7175 - val_loss: 0.5463 - val_accuracy: 0.7186\n",
      "Epoch 39/50\n",
      "913/935 [============================>.] - ETA: 0s - loss: 0.5422 - accuracy: 0.7161Restoring model weights from the end of the best epoch: 34.\n",
      "935/935 [==============================] - 2s 2ms/step - loss: 0.5423 - accuracy: 0.7162 - val_loss: 0.5492 - val_accuracy: 0.7185\n",
      "Epoch 39: early stopping\n"
     ]
    }
   ],
   "source": [
    "# Compile the model\n",
    "model.compile(optimizer='adam', loss='binary_crossentropy', metrics=['accuracy'])\n",
    "\n",
    "# Train the ANN with callbacks\n",
    "history = model.fit(\n",
    "    X_train, y_train,\n",
    "    epochs=50,               # Number of epochs\n",
    "    batch_size=32,           # Batch size\n",
    "    validation_split=0.2,    # Use 20% of the data for validation\n",
    "    callbacks=[early_stopping, tensorboard_callback],  # Add callbacks here\n",
    "    verbose=1\n",
    ")"
   ]
  },
  {
   "cell_type": "markdown",
   "metadata": {},
   "source": [
    "**TensorBoard Visualization**\n",
    "\n",
    "After training, you can launch TensorBoard to view the training and validation metrics from the terminal\n",
    "\n",
    "\n",
    "\"tensorboard --logdir=logs/fit\"\n"
   ]
  },
  {
   "cell_type": "markdown",
   "metadata": {},
   "source": [
    "**Save the model**"
   ]
  },
  {
   "cell_type": "code",
   "execution_count": 19,
   "metadata": {},
   "outputs": [],
   "source": [
    "# Save the model\n",
    "model.save('my_model.keras')  # Save in Keras format\n",
    "\n"
   ]
  },
  {
   "cell_type": "markdown",
   "metadata": {},
   "source": [
    "**Evaluate the Model:**\n",
    "\n",
    "- Assess the performance of your ANN on the test data."
   ]
  },
  {
   "cell_type": "code",
   "execution_count": 21,
   "metadata": {},
   "outputs": [
    {
     "name": "stdout",
     "output_type": "stream",
     "text": [
      "Test Accuracy: 0.7168\n"
     ]
    }
   ],
   "source": [
    "\n",
    "\n",
    "\n",
    "# Evaluate the model\n",
    "test_loss, test_accuracy = model.evaluate(X_test, y_test, verbose=0)\n",
    "print(f\"Test Accuracy: {test_accuracy:.4f}\")\n",
    " \n",
    "\n"
   ]
  },
  {
   "cell_type": "markdown",
   "metadata": {},
   "source": [
    "**Plot Metrics:**\n",
    "- Visualize the training process (e.g., loss and accuracy curves).\n",
    "\n",
    "\n"
   ]
  },
  {
   "cell_type": "code",
   "execution_count": 22,
   "metadata": {},
   "outputs": [
    {
     "data": {
      "image/png": "[encoded data removed]",
      "text/plain": [
       "<Figure size 640x480 with 1 Axes>"
      ]
     },
     "metadata": {},
     "output_type": "display_data"
    }
   ],
   "source": [
    "import matplotlib.pyplot as plt\n",
    "\n",
    "# Plot accuracy\n",
    "plt.plot(history.history['accuracy'], label='Train Accuracy')\n",
    "plt.plot(history.history['val_accuracy'], label='Validation Accuracy')\n",
    "plt.legend()\n",
    "plt.title('Model Accuracy')\n",
    "plt.xlabel('Epochs')\n",
    "plt.ylabel('Accuracy')\n",
    "plt.show()\n"
   ]
  },
  {
   "cell_type": "code",
   "execution_count": 23,
   "metadata": {},
   "outputs": [
    {
     "data": {
      "image/png": "[encoded data removed]",
      "text/plain": [
       "<Figure size 640x480 with 1 Axes>"
      ]
     },
     "metadata": {},
     "output_type": "display_data"
    }
   ],
   "source": [
    "# Loss Plot\n",
    "plt.plot(history.history['loss'], label='Train Loss')\n",
    "plt.plot(history.history['val_loss'], label='Validation Loss')\n",
    "plt.legend()\n",
    "plt.title('Model Loss')\n",
    "plt.xlabel('Epochs')\n",
    "plt.ylabel('Loss')\n",
    "plt.show()"
   ]
  },
  {
   "cell_type": "markdown",
   "metadata": {},
   "source": [
    "**Load and compile the model for future use**"
   ]
  },
  {
   "cell_type": "code",
   "execution_count": 20,
   "metadata": {},
   "outputs": [],
   "source": [
    "# Load the saved model\n",
    "model = load_model('my_model.keras')\n",
    "\n",
    "# Manually compile the model if needed\n",
    "model.compile(optimizer=Adam(learning_rate=0.001), \n",
    "              loss='binary_crossentropy', \n",
    "              metrics=['accuracy'])\n"
   ]
  },
  {
   "cell_type": "markdown",
   "metadata": {},
   "source": [
    "**Create FastAPI for deployment**"
   ]
  },
  {
   "cell_type": "code",
   "execution_count": null,
   "metadata": {},
   "outputs": [],
   "source": [
    "from fastapi import FastAPI\n",
    "from pydantic import BaseModel\n",
    "import numpy as np\n",
    "from tensorflow.keras.models import load_model\n",
    "from typing import List\n",
    "\n",
    "# Initialize the FastAPI app\n",
    "app = FastAPI()\n",
    "\n",
    "# Load the pre-trained model\n",
    "model = load_model('my_model.keras')\n",
    "\n",
    "# Define a Pydantic model for incoming requests, with a list of float features\n",
    "class InputData(BaseModel):\n",
    "    features: List[float]  # Expecting a list of float numbers\n",
    "\n",
    "@app.post(\"/predict\")\n",
    "def predict(data: InputData):\n",
    "    # Convert the input data into a numpy array and reshape for prediction\n",
    "    input_data = np.array(data.features).reshape(1, -1)  # Ensure it's 2D (1 sample, N features)\n",
    "    \n",
    "    # Make prediction\n",
    "    prediction = model.predict(input_data)\n",
    "    \n",
    "    # Return the prediction in a format that can be easily consumed (float)\n",
    "    return {\"prediction\": float(prediction[0][0])}\n",
    "\n",
    "# To run the app, execute this in terminal:\n",
    "# uvicorn app:app --reload\n"
   ]
  },
  {
   "cell_type": "markdown",
   "metadata": {},
   "source": [
    "\n",
    "**Test the /predict endpoint by submitting sample data in JSON format. Here's an example of the input:**\n",
    "\n",
    "{\n",
    "    \"LIMIT_BAL\": 100000,\n",
    "\n",
    "    \"SEX\": 2,\n",
    "\n",
    "    \"EDUCATION\": 2,\n",
    "\n",
    "    \"MARRIAGE\": 1,\n",
    "\n",
    "    \"AGE\": 25,\n",
    "\n",
    "    \"PAY_0\": 0,\n",
    "\n",
    "    \"PAY_2\": 0,\n",
    "\n",
    "    \"PAY_3\": 0,\n",
    "\n",
    "    \"PAY_4\": 0,\n",
    "\n",
    "    \"PAY_5\": 0,\n",
    "\n",
    "    \"PAY_6\": 0,\n",
    "\n",
    "    \"BILL_AMT1\": 50000,\n",
    "\n",
    "    \"BILL_AMT2\": 48000,\n",
    "\n",
    "    \"BILL_AMT3\": 47000,\n",
    "\n",
    "    \"BILL_AMT4\": 46000,\n",
    "\n",
    "    \"BILL_AMT5\": 45000,\n",
    "\n",
    "    \"BILL_AMT6\": 44000,\n",
    "\n",
    "    \"PAY_AMT1\": 10000,\n",
    "\n",
    "    \"PAY_AMT2\": 12000,\n",
    "\n",
    "    \"PAY_AMT3\": 15000,\n",
    "\n",
    "    \"PAY_AMT4\": 13000,\n",
    "\n",
    "    \"PAY_AMT5\": 11000,\n",
    "    \n",
    "    \"PAY_AMT6\": 10000\n",
    "}\n"
   ]
  }
 ],
 "metadata": {
  "kernelspec": {
   "display_name": "Python 3 (ipykernel)",
   "language": "python",
   "name": "python3"
  },
  "language_info": {
   "codemirror_mode": {
    "name": "ipython",
    "version": 3
   },
   "file_extension": ".py",
   "mimetype": "text/x-python",
   "name": "python",
   "nbconvert_exporter": "python",
   "pygments_lexer": "ipython3",
   "version": "3.12.2"
  }
 },
 "nbformat": 4,
 "nbformat_minor": 4
}
